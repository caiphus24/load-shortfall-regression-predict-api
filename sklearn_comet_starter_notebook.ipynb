{
  "nbformat": 4,
  "nbformat_minor": 0,
  "metadata": {
    "colab": {
      "name": "sklearn_comet_starter_notebook.ipynb",
      "provenance": [],
      "collapsed_sections": [],
      "include_colab_link": true
    },
    "kernelspec": {
      "name": "python3",
      "display_name": "Python 3"
    }
  },
  "cells": [
    {
      "cell_type": "markdown",
      "metadata": {
        "id": "view-in-github",
        "colab_type": "text"
      },
      "source": [
        "<a href=\"https://colab.research.google.com/github/caiphus24/load-shortfall-regression-predict-api/blob/master/sklearn_comet_starter_notebook.ipynb\" target=\"_parent\"><img src=\"https://colab.research.google.com/assets/colab-badge.svg\" alt=\"Open In Colab\"/></a>"
      ]
    },
    {
      "cell_type": "markdown",
      "metadata": {
        "id": "-XweBu-_x9Vj"
      },
      "source": [
        "## Introduction to Comet ML  \n",
        "\n",
        "Comet is a great tool for model versioning and experimentation as it records the parameters and conditions from each of your experiements- allowing you to reproduce your results, or go back to a previous version of your experiment.  \n",
        "\n",
        "To create an account, visit https://www.comet.ml/  \n",
        "Follow the instructions for a single user account. Once that is created, you will see a project folder. That is where the records of your experiments can be viewed. \n",
        "\n",
        "Comet has an abundance of tutorials and scripts, we're just going to run through this notebook to get you started on the right track. For this illustration, we will be using one of the examples found on the Comet ML GitHub repo.\n",
        "\n",
        "To begin with, you should install as illustrated below if you don't already have it. *Always import Experiment at the top of your notebook/script.*\n"
      ]
    },
    {
      "cell_type": "code",
      "metadata": {
        "id": "3Wd_iEgx6j2w",
        "colab": {
          "base_uri": "https://localhost:8080/",
          "height": 554
        },
        "outputId": "d4322780-007b-432b-82bf-093a48e93428"
      },
      "source": [
        "!pip install comet_ml"
      ],
      "execution_count": null,
      "outputs": [
        {
          "output_type": "stream",
          "text": [
            "Collecting comet_ml\n",
            "\u001b[?25l  Downloading https://files.pythonhosted.org/packages/d3/c3/0e46ea9ccb0a761f005dbde4fe0bd884308251e1a854987ef610659fc09c/comet_ml-3.1.3-py2.py3-none-any.whl (186kB)\n",
            "\r\u001b[K     |█▊                              | 10kB 17.7MB/s eta 0:00:01\r\u001b[K     |███▌                            | 20kB 3.3MB/s eta 0:00:01\r\u001b[K     |█████▎                          | 30kB 3.9MB/s eta 0:00:01\r\u001b[K     |███████                         | 40kB 3.0MB/s eta 0:00:01\r\u001b[K     |████████▊                       | 51kB 3.4MB/s eta 0:00:01\r\u001b[K     |██████████▌                     | 61kB 4.1MB/s eta 0:00:01\r\u001b[K     |████████████▎                   | 71kB 4.2MB/s eta 0:00:01\r\u001b[K     |██████████████                  | 81kB 4.6MB/s eta 0:00:01\r\u001b[K     |███████████████▉                | 92kB 5.1MB/s eta 0:00:01\r\u001b[K     |█████████████████▌              | 102kB 5.1MB/s eta 0:00:01\r\u001b[K     |███████████████████▎            | 112kB 5.1MB/s eta 0:00:01\r\u001b[K     |█████████████████████           | 122kB 5.1MB/s eta 0:00:01\r\u001b[K     |██████████████████████▉         | 133kB 5.1MB/s eta 0:00:01\r\u001b[K     |████████████████████████▋       | 143kB 5.1MB/s eta 0:00:01\r\u001b[K     |██████████████████████████▎     | 153kB 5.1MB/s eta 0:00:01\r\u001b[K     |████████████████████████████    | 163kB 5.1MB/s eta 0:00:01\r\u001b[K     |█████████████████████████████▉  | 174kB 5.1MB/s eta 0:00:01\r\u001b[K     |███████████████████████████████▋| 184kB 5.1MB/s eta 0:00:01\r\u001b[K     |████████████████████████████████| 194kB 5.1MB/s \n",
            "\u001b[?25hCollecting everett[ini]>=1.0.1; python_version >= \"3.0\"\n",
            "  Downloading https://files.pythonhosted.org/packages/12/34/de70a3d913411e40ce84966f085b5da0c6df741e28c86721114dd290aaa0/everett-1.0.2-py2.py3-none-any.whl\n",
            "Requirement already satisfied: jsonschema<3.1.0,>=2.6.0 in /usr/local/lib/python3.6/dist-packages (from comet_ml) (2.6.0)\n",
            "Collecting netifaces>=0.10.7\n",
            "  Downloading https://files.pythonhosted.org/packages/0c/9b/c4c7eb09189548d45939a3d3a6b3d53979c67d124459b27a094c365c347f/netifaces-0.10.9-cp36-cp36m-manylinux1_x86_64.whl\n",
            "Requirement already satisfied: requests>=2.18.4 in /usr/local/lib/python3.6/dist-packages (from comet_ml) (2.21.0)\n",
            "Requirement already satisfied: six in /usr/local/lib/python3.6/dist-packages (from comet_ml) (1.12.0)\n",
            "Collecting websocket-client>=0.55.0\n",
            "\u001b[?25l  Downloading https://files.pythonhosted.org/packages/4c/5f/f61b420143ed1c8dc69f9eaec5ff1ac36109d52c80de49d66e0c36c3dfdf/websocket_client-0.57.0-py2.py3-none-any.whl (200kB)\n",
            "\r\u001b[K     |█▋                              | 10kB 26.1MB/s eta 0:00:01\r\u001b[K     |███▎                            | 20kB 34.5MB/s eta 0:00:01\r\u001b[K     |█████                           | 30kB 41.3MB/s eta 0:00:01\r\u001b[K     |██████▌                         | 40kB 31.0MB/s eta 0:00:01\r\u001b[K     |████████▏                       | 51kB 22.1MB/s eta 0:00:01\r\u001b[K     |█████████▉                      | 61kB 24.6MB/s eta 0:00:01\r\u001b[K     |███████████▍                    | 71kB 21.6MB/s eta 0:00:01\r\u001b[K     |█████████████                   | 81kB 19.3MB/s eta 0:00:01\r\u001b[K     |██████████████▊                 | 92kB 21.0MB/s eta 0:00:01\r\u001b[K     |████████████████▎               | 102kB 16.6MB/s eta 0:00:01\r\u001b[K     |██████████████████              | 112kB 16.6MB/s eta 0:00:01\r\u001b[K     |███████████████████▋            | 122kB 16.6MB/s eta 0:00:01\r\u001b[K     |█████████████████████▏          | 133kB 16.6MB/s eta 0:00:01\r\u001b[K     |██████████████████████▉         | 143kB 16.6MB/s eta 0:00:01\r\u001b[K     |████████████████████████▌       | 153kB 16.6MB/s eta 0:00:01\r\u001b[K     |██████████████████████████      | 163kB 16.6MB/s eta 0:00:01\r\u001b[K     |███████████████████████████▊    | 174kB 16.6MB/s eta 0:00:01\r\u001b[K     |█████████████████████████████▍  | 184kB 16.6MB/s eta 0:00:01\r\u001b[K     |███████████████████████████████ | 194kB 16.6MB/s eta 0:00:01\r\u001b[K     |████████████████████████████████| 204kB 16.6MB/s \n",
            "\u001b[?25hRequirement already satisfied: nvidia-ml-py3>=7.352.0 in /usr/local/lib/python3.6/dist-packages (from comet_ml) (7.352.0)\n",
            "Collecting wurlitzer>=1.0.2\n",
            "  Downloading https://files.pythonhosted.org/packages/24/5e/f3bd8443bfdf96d2f5d10097d301076a9eb55637b7864e52d2d1a4d8c72a/wurlitzer-2.0.0-py2.py3-none-any.whl\n",
            "Collecting comet-git-pure>=0.19.11\n",
            "\u001b[?25l  Downloading https://files.pythonhosted.org/packages/56/2b/c1ca11a237e3fcbe0c1ea53134901f30f3aa657e5ea141dccaae0f46df0e/comet_git_pure-0.19.15-py3-none-any.whl (401kB)\n",
            "\u001b[K     |████████████████████████████████| 409kB 16.4MB/s \n",
            "\u001b[?25hCollecting configobj; extra == \"ini\"\n",
            "  Downloading https://files.pythonhosted.org/packages/64/61/079eb60459c44929e684fa7d9e2fdca403f67d64dd9dbac27296be2e0fab/configobj-5.0.6.tar.gz\n",
            "Requirement already satisfied: urllib3<1.25,>=1.21.1 in /usr/local/lib/python3.6/dist-packages (from requests>=2.18.4->comet_ml) (1.24.3)\n",
            "Requirement already satisfied: certifi>=2017.4.17 in /usr/local/lib/python3.6/dist-packages (from requests>=2.18.4->comet_ml) (2019.11.28)\n",
            "Requirement already satisfied: chardet<3.1.0,>=3.0.2 in /usr/local/lib/python3.6/dist-packages (from requests>=2.18.4->comet_ml) (3.0.4)\n",
            "Requirement already satisfied: idna<2.9,>=2.5 in /usr/local/lib/python3.6/dist-packages (from requests>=2.18.4->comet_ml) (2.8)\n",
            "Building wheels for collected packages: configobj\n",
            "  Building wheel for configobj (setup.py) ... \u001b[?25l\u001b[?25hdone\n",
            "  Created wheel for configobj: filename=configobj-5.0.6-cp36-none-any.whl size=34546 sha256=8c4ccbe8cbf474f180b1e55f2102ed6b5a849b8f6d8b65c359deb50756a1111d\n",
            "  Stored in directory: /root/.cache/pip/wheels/f1/e4/16/4981ca97c2d65106b49861e0b35e2660695be7219a2d351ee0\n",
            "Successfully built configobj\n",
            "Installing collected packages: configobj, everett, netifaces, websocket-client, wurlitzer, comet-git-pure, comet-ml\n",
            "Successfully installed comet-git-pure-0.19.15 comet-ml-3.1.3 configobj-5.0.6 everett-1.0.2 netifaces-0.10.9 websocket-client-0.57.0 wurlitzer-2.0.0\n"
          ],
          "name": "stdout"
        }
      ]
    },
    {
      "cell_type": "code",
      "metadata": {
        "id": "3jhxZfPg6qxH"
      },
      "source": [
        "from comet_ml import Experiment"
      ],
      "execution_count": null,
      "outputs": []
    },
    {
      "cell_type": "markdown",
      "metadata": {
        "id": "cObkea-S7Y85"
      },
      "source": [
        "You will see an API key button at the top of the page when you click on an experiment- use this key as illustrated below to link your current workspace to comet. (If a project is empty, the code below will autogenerate for you on the project page, just copy and paste it in here)"
      ]
    },
    {
      "cell_type": "code",
      "metadata": {
        "id": "S5cRjXOH7aTX",
        "colab": {
          "base_uri": "https://localhost:8080/",
          "height": 50
        },
        "outputId": "9de3fcce-d970-4393-f264-793fb2d4ac74"
      },
      "source": [
        "# Setting the API key (saved as environment variable)\n",
        "experiment = Experiment(#api_key='your api key here'\n",
        "                        project_name=\"general\", workspace=\"jo-moon\") "
      ],
      "execution_count": null,
      "outputs": [
        {
          "output_type": "stream",
          "text": [
            "COMET INFO: Experiment is live on comet.ml https://www.comet.ml/jo-moon/general/96b60794fd8747a084b2a1c0cc015a33\n",
            "\n"
          ],
          "name": "stderr"
        }
      ]
    },
    {
      "cell_type": "markdown",
      "metadata": {
        "id": "2dN3PMg07s0Q"
      },
      "source": [
        "Import the rest of your necessary libraries as you usually would. For this demonstration we will be using the breast cancer dataset for classification so we will also import that from sklearn."
      ]
    },
    {
      "cell_type": "code",
      "metadata": {
        "id": "Q53Mocnc79cF"
      },
      "source": [
        "import numpy as np\n",
        "from sklearn.datasets import load_breast_cancer\n",
        "from sklearn.model_selection import train_test_split, GridSearchCV\n",
        "from sklearn.linear_model import LogisticRegression\n",
        "from sklearn.tree import DecisionTreeClassifier\n",
        "from sklearn.preprocessing import StandardScaler\n",
        "from sklearn.metrics import f1_score, precision_score, recall_score, confusion_matrix"
      ],
      "execution_count": null,
      "outputs": []
    },
    {
      "cell_type": "code",
      "metadata": {
        "id": "olkD6zuo_VI9",
        "colab": {
          "base_uri": "https://localhost:8080/",
          "height": 286
        },
        "outputId": "5f6cd772-b2ec-4a7f-971d-4e3b71e785b8"
      },
      "source": [
        "# Have a look at your dataset\n",
        "cancer = load_breast_cancer()\n",
        "print(\"cancer.keys(): {}\".format(cancer.keys()))\n",
        "print(\"Shape of cancer data: {}\\n\".format(cancer.data.shape))\n",
        "print(\"Sample counts per class:\\n{}\".format(\n",
        "      {n: v for n, v in zip(cancer.target_names, np.bincount(cancer.target))}))\n",
        "print(\"\\nFeature names:\\n{}\".format(cancer.feature_names))"
      ],
      "execution_count": null,
      "outputs": [
        {
          "output_type": "stream",
          "text": [
            "cancer.keys(): dict_keys(['data', 'target', 'target_names', 'DESCR', 'feature_names', 'filename'])\n",
            "Shape of cancer data: (569, 30)\n",
            "\n",
            "Sample counts per class:\n",
            "{'malignant': 212, 'benign': 357}\n",
            "\n",
            "Feature names:\n",
            "['mean radius' 'mean texture' 'mean perimeter' 'mean area'\n",
            " 'mean smoothness' 'mean compactness' 'mean concavity'\n",
            " 'mean concave points' 'mean symmetry' 'mean fractal dimension'\n",
            " 'radius error' 'texture error' 'perimeter error' 'area error'\n",
            " 'smoothness error' 'compactness error' 'concavity error'\n",
            " 'concave points error' 'symmetry error' 'fractal dimension error'\n",
            " 'worst radius' 'worst texture' 'worst perimeter' 'worst area'\n",
            " 'worst smoothness' 'worst compactness' 'worst concavity'\n",
            " 'worst concave points' 'worst symmetry' 'worst fractal dimension']\n"
          ],
          "name": "stdout"
        }
      ]
    },
    {
      "cell_type": "markdown",
      "metadata": {
        "id": "H_KDcC6O_uon"
      },
      "source": [
        "Split your data into train and test sets, keep in mind that you need to set a random state for your results to be reproduced!"
      ]
    },
    {
      "cell_type": "code",
      "metadata": {
        "id": "yHBLubxt_b2t"
      },
      "source": [
        "X_train, X_test, y_train, y_test = train_test_split(\n",
        "    cancer.data,\n",
        "    cancer.target,\n",
        "    stratify=cancer.target,\n",
        "    random_state=7)"
      ],
      "execution_count": null,
      "outputs": []
    },
    {
      "cell_type": "code",
      "metadata": {
        "id": "vjsyVrHF_kHR"
      },
      "source": [
        "# Scale your data!\n",
        "\n",
        "scaler = StandardScaler()\n",
        "X_train_scaled = scaler.fit_transform(X_train)\n",
        "X_test_scaled = scaler.transform(X_test)"
      ],
      "execution_count": null,
      "outputs": []
    },
    {
      "cell_type": "markdown",
      "metadata": {
        "id": "93jtvJoIGxbK"
      },
      "source": [
        "## GridSearch \n",
        "\n",
        "For this example we've used a gridsearch but you may use a model with default parameters or your own parameters too- Just remember to add/remove the neccesary data when you are logging your parameters at the end of the experiment.\n",
        "\n",
        "The `param_grid` variable contains the 'C' values we want our gridsearch to iterate through.\n",
        "\n"
      ]
    },
    {
      "cell_type": "code",
      "metadata": {
        "id": "B0yjyIgS_pde"
      },
      "source": [
        "logreg = LogisticRegression()\n",
        "param_grid = {'C': [0.001, 0.01, 0.1, 1, 5, 10, 20, 50, 100]}"
      ],
      "execution_count": null,
      "outputs": []
    },
    {
      "cell_type": "code",
      "metadata": {
        "id": "PjWzBbbqF_S1"
      },
      "source": [
        "# Training and testing using GridSearch\n",
        "clf = GridSearchCV(logreg,\n",
        "                   param_grid=param_grid,\n",
        "                   cv=10,\n",
        "                   n_jobs=-1)\n",
        "\n",
        "clf.fit(X_train_scaled, y_train)\n",
        "y_pred = clf.predict(X_test_scaled)"
      ],
      "execution_count": null,
      "outputs": []
    },
    {
      "cell_type": "markdown",
      "metadata": {
        "id": "Qn57DHbLQSyF"
      },
      "source": [
        "## Results\n",
        "\n",
        "Now that our model has trained, we can have a look at the results- Below is a confusion matrix indicating that at first glance, we have a fairly good model going. We then save the F1 score, Precision, and Recall as individual variables to go into our metric dictionary for logging.\n",
        "\n",
        "P.S. have a look at the Comet tutorial page for interesting confusion matrix plots."
      ]
    },
    {
      "cell_type": "code",
      "metadata": {
        "id": "wPerWtdRGFvx",
        "colab": {
          "base_uri": "https://localhost:8080/",
          "height": 101
        },
        "outputId": "2c803aa1-f2e3-48ac-ca84-0d8324f8de64"
      },
      "source": [
        "print(\"\\nResults\\nConfusion matrix \\n {}\".format(\n",
        "    confusion_matrix(y_test, y_pred)))"
      ],
      "execution_count": null,
      "outputs": [
        {
          "output_type": "stream",
          "text": [
            "\n",
            "Results\n",
            "Confusion matrix \n",
            " [[52  1]\n",
            " [ 2 88]]\n"
          ],
          "name": "stdout"
        }
      ]
    },
    {
      "cell_type": "code",
      "metadata": {
        "id": "arEXfiZPGLOd"
      },
      "source": [
        "# Saving each metric to add to a dictionary for logging\n",
        "\n",
        "f1 = f1_score(y_test, y_pred)\n",
        "precision = precision_score(y_test, y_pred)\n",
        "recall = recall_score(y_test, y_pred)"
      ],
      "execution_count": null,
      "outputs": []
    },
    {
      "cell_type": "code",
      "metadata": {
        "id": "-1kDE76cGRSd"
      },
      "source": [
        "# Create dictionaries for the data we want to log\n",
        "\n",
        "params = {\"random_state\": 7,\n",
        "          \"model_type\": \"logreg\",\n",
        "          \"scaler\": \"standard scaler\",\n",
        "          \"param_grid\": str(param_grid),\n",
        "          \"stratify\": True\n",
        "          }\n",
        "metrics = {\"f1\": f1,\n",
        "           \"recall\": recall,\n",
        "           \"precision\": precision\n",
        "           }"
      ],
      "execution_count": null,
      "outputs": []
    },
    {
      "cell_type": "code",
      "metadata": {
        "id": "oun_B6m5GXEz"
      },
      "source": [
        "# Log our parameters and results\n",
        "experiment.log_parameters(params)\n",
        "experiment.log_metrics(metrics)"
      ],
      "execution_count": null,
      "outputs": []
    },
    {
      "cell_type": "markdown",
      "metadata": {
        "id": "wuUPB_amTU-0"
      },
      "source": [
        "If you're using comet within a jupyter notebook, it's important to end your experiment when you've finished as illustrated below."
      ]
    },
    {
      "cell_type": "code",
      "metadata": {
        "id": "CbQ3tKA-G6rW",
        "colab": {
          "base_uri": "https://localhost:8080/",
          "height": 269
        },
        "outputId": "d5818c72-cc5b-4c51-d4ef-cea92962f19f"
      },
      "source": [
        "experiment.end()"
      ],
      "execution_count": null,
      "outputs": [
        {
          "output_type": "stream",
          "text": [
            "COMET INFO: ----------------------------\n",
            "COMET INFO: Comet.ml Experiment Summary:\n",
            "COMET INFO:   Data:\n",
            "COMET INFO:     url: https://www.comet.ml/jo-moon/general/96b60794fd8747a084b2a1c0cc015a33\n",
            "COMET INFO:   Metrics [count] (min, max):\n",
            "COMET INFO:     f1                      : (0.9832402234636872, 0.9832402234636872)\n",
            "COMET INFO:     precision               : (0.9887640449438202, 0.9887640449438202)\n",
            "COMET INFO:     recall                  : (0.9777777777777777, 0.9777777777777777)\n",
            "COMET INFO:     sys.cpu.percent.01 [31] : (0.9, 10.3)\n",
            "COMET INFO:     sys.cpu.percent.02 [31] : (0.9, 7.5)\n",
            "COMET INFO:     sys.cpu.percent.avg [31]: (0.95, 8.9)\n",
            "COMET INFO:     sys.ram.total [31]      : (13653561344.0, 13653561344.0)\n",
            "COMET INFO:     sys.ram.used [31]       : (592932864.0, 735928320.0)\n",
            "COMET INFO: ----------------------------\n",
            "COMET INFO: Uploading stats to Comet before program termination (may take several seconds)\n"
          ],
          "name": "stderr"
        }
      ]
    },
    {
      "cell_type": "markdown",
      "metadata": {
        "id": "BXuUORTEooIX"
      },
      "source": [
        "## Display  \n",
        "\n",
        "Running `experiment.display()` will show you your experiments comet.ml page inside your notebook as illustrated below. You can do this immediately after an experiment is run, and logged. "
      ]
    },
    {
      "cell_type": "code",
      "metadata": {
        "id": "B-5ZmY-ZHFRf",
        "colab": {
          "base_uri": "https://localhost:8080/",
          "height": 821
        },
        "outputId": "4ea3e2c5-783d-49af-e71e-aaa59e63ea18"
      },
      "source": [
        "experiment.display()"
      ],
      "execution_count": null,
      "outputs": [
        {
          "output_type": "display_data",
          "data": {
            "text/html": [
              "\n",
              "        <iframe\n",
              "            width=\"100%\"\n",
              "            height=\"800px\"\n",
              "            src=\"https://www.comet.ml/jo-moon/general/96b60794fd8747a084b2a1c0cc015a33\"\n",
              "            frameborder=\"0\"\n",
              "            allowfullscreen\n",
              "        ></iframe>\n",
              "        "
            ],
            "text/plain": [
              "<IPython.lib.display.IFrame at 0x7f11118a9198>"
            ]
          },
          "metadata": {
            "tags": []
          }
        }
      ]
    },
    {
      "cell_type": "code",
      "metadata": {
        "id": "fupy3YeZolRA"
      },
      "source": [
        ""
      ],
      "execution_count": null,
      "outputs": []
    }
  ]
}